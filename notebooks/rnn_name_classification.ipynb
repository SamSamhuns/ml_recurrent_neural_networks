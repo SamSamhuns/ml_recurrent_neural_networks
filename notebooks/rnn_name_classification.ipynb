{
 "cells": [
  {
   "cell_type": "markdown",
   "id": "2b5bf777",
   "metadata": {},
   "source": [
    "# Name to Language Classification using RNNs\n"
   ]
  },
  {
   "cell_type": "markdown",
   "id": "1a490643",
   "metadata": {},
   "source": [
    "## Load required libs, name-to-language data and util funcs"
   ]
  },
  {
   "cell_type": "code",
   "execution_count": 1,
   "id": "8e0a8f82",
   "metadata": {},
   "outputs": [],
   "source": [
    "import os\n",
    "import glob\n",
    "import time\n",
    "import math\n",
    "import string\n",
    "import random\n",
    "import unicodedata\n",
    "from io import open as io_open\n",
    "\n",
    "import torch\n",
    "import torch.nn as nn\n",
    "\n",
    "\n",
    "ALL_LETTERS = string.ascii_letters + \" .,;'\" # character to consider\n",
    "n_letters = len(ALL_LETTERS)                 # length of one hot char encodiing vector\n",
    "\n",
    "\n",
    "def unicode_to_ascii(string):\n",
    "    \"\"\"convert unicode string to plain ascii, removing any accents\"\"\"\n",
    "    return ''.join(c for c in unicodedata.normalize('NFD', string)\n",
    "                  if unicodedata.category(c) != 'Mn' and \n",
    "                   c in ALL_LETTERS)\n",
    "\n",
    "\n",
    "def file_list(path):\n",
    "    return glob.glob(path)\n",
    "\n",
    "\n",
    "def read_lines_in_file(filename):\n",
    "    \"\"\"get list of lines from file\n",
    "    \"\"\"\n",
    "    lines = io_open(filename, encoding='utf-8').read().strip().split('\\n')\n",
    "    return [unicode_to_ascii(line) for line in lines]"
   ]
  },
  {
   "cell_type": "markdown",
   "id": "a1dabaa6",
   "metadata": {},
   "source": [
    "## Load name-to-category/language data"
   ]
  },
  {
   "cell_type": "code",
   "execution_count": 2,
   "id": "3e7b65d5",
   "metadata": {},
   "outputs": [],
   "source": [
    "# Build the category_lines dictionary, a list of names per language\n",
    "category_lines = {}\n",
    "all_categories = []\n",
    "data_glob = \"../data/names/*.txt\"\n",
    "\n",
    "# populate the categories\n",
    "for class_file_path in file_list(data_glob):\n",
    "    category_name = os.path.basename(class_file_path).split('.')[0] # language name\n",
    "    all_categories.append(category_name)\n",
    "    category_lines[category_name] = read_lines_in_file(class_file_path)\n",
    "    \n",
    "n_categories = len(all_categories)"
   ]
  },
  {
   "cell_type": "markdown",
   "id": "f06f16c5",
   "metadata": {},
   "source": [
    "## Convert names into one-hot-encoded tensors\n",
    "\n",
    "one letter shape `<1 x n_letters>`\n",
    "\n",
    "one word shape `<word_length x 1 x n_letters>`"
   ]
  },
  {
   "cell_type": "code",
   "execution_count": 3,
   "id": "aed20aae",
   "metadata": {},
   "outputs": [],
   "source": [
    "def letter_to_index(letter):\n",
    "    return ALL_LETTERS.find(letter)\n",
    "\n",
    "\n",
    "def letter_to_tensor(letter):\n",
    "    letter_idx = letter_to_index(letter)\n",
    "    letter_tensor = torch.zeros((1, n_letters), dtype=torch.uint8)\n",
    "    letter_tensor[0][letter_idx] = 1\n",
    "    return letter_tensor\n",
    "\n",
    "\n",
    "def line_to_tensor(line):\n",
    "    line_tensor = torch.zeros((len(line), 1, n_letters), dtype=torch.uint8)\n",
    "    for i,char in enumerate(line):\n",
    "        vec_i = letter_to_index(char)\n",
    "        line_tensor[i][0][vec_i] = 1\n",
    "    return line_tensor"
   ]
  },
  {
   "cell_type": "code",
   "execution_count": 4,
   "id": "a26e8231",
   "metadata": {},
   "outputs": [
    {
     "data": {
      "text/plain": [
       "(torch.Size([1, 57]), torch.Size([3, 1, 57]))"
      ]
     },
     "execution_count": 4,
     "metadata": {},
     "output_type": "execute_result"
    }
   ],
   "source": [
    "letter_to_tensor('a').shape, line_to_tensor('abc').shape"
   ]
  },
  {
   "cell_type": "markdown",
   "id": "7a0fade0",
   "metadata": {},
   "source": [
    "## Create the RNN architecture"
   ]
  },
  {
   "cell_type": "code",
   "execution_count": 13,
   "id": "1683fabe",
   "metadata": {},
   "outputs": [],
   "source": [
    "class RNN(nn.Module):\n",
    "    \n",
    "    def __init__(self, input_size, hidden_size, output_size):\n",
    "        super(RNN, self).__init__()\n",
    "\n",
    "        self.hidden_size = hidden_size\n",
    "        self.in2out = nn.Linear(input_size + hidden_size, output_size)\n",
    "        self.in2hidden = nn.Linear(input_size + hidden_size, hidden_size)\n",
    "        self.logsoftmax = nn.LogSoftmax(dim=1)\n",
    "        self.tanh = nn.Tanh()\n",
    "\n",
    "    def forward(self, x, h):\n",
    "        x_h = torch.cat((x, h), 1)\n",
    "        hidden = self.in2hidden(x_h)\n",
    "#         hidden = self.tanh(hidden)\n",
    "        out = self.in2out(x_h)\n",
    "        out = self.logsoftmax(out)\n",
    "        return out, hidden\n",
    "    \n",
    "    def init_hidden(self):\n",
    "        return torch.zeros([1, self.hidden_size])"
   ]
  },
  {
   "cell_type": "code",
   "execution_count": 14,
   "id": "db2e73be",
   "metadata": {},
   "outputs": [
    {
     "name": "stdout",
     "output_type": "stream",
     "text": [
      "torch.Size([1, 57]) torch.Size([1, 18]) torch.Size([1, 128])\n"
     ]
    }
   ],
   "source": [
    "# testing our simple RNN \n",
    "n_hidden = 128\n",
    "rnn = RNN(n_letters, n_hidden, n_categories)\n",
    "\n",
    "cinput = letter_to_tensor('A')\n",
    "hidden = torch.zeros(1, n_hidden)\n",
    "\n",
    "output, next_hidden = rnn(cinput, hidden)\n",
    "print(cinput.shape, output.shape, next_hidden.shape)"
   ]
  },
  {
   "cell_type": "code",
   "execution_count": 15,
   "id": "2d6136f0",
   "metadata": {},
   "outputs": [
    {
     "data": {
      "text/plain": [
       "RNN(\n",
       "  (in2out): Linear(in_features=185, out_features=18, bias=True)\n",
       "  (in2hidden): Linear(in_features=185, out_features=128, bias=True)\n",
       "  (logsoftmax): LogSoftmax(dim=1)\n",
       "  (tanh): Tanh()\n",
       ")"
      ]
     },
     "execution_count": 15,
     "metadata": {},
     "output_type": "execute_result"
    }
   ],
   "source": [
    "# structure of our simple RNN\n",
    "rnn"
   ]
  },
  {
   "cell_type": "markdown",
   "id": "6c4d575e",
   "metadata": {},
   "source": [
    "## Training"
   ]
  },
  {
   "cell_type": "code",
   "execution_count": 16,
   "id": "ea8a9a03",
   "metadata": {},
   "outputs": [],
   "source": [
    "def get_category_from_output(output):\n",
    "    category_i = torch.argmax(output)\n",
    "    return all_categories[category_i], category_i.item()\n",
    "\n",
    "def get_random_training_example():\n",
    "    category = random.choice(all_categories)\n",
    "    category_line = random.choice(category_lines[category])\n",
    "    category_tensor = torch.tensor([all_categories.index(category)], dtype=torch.long)\n",
    "    line_tensor = line_to_tensor(category_line)\n",
    "    return category, category_line, category_tensor, line_tensor"
   ]
  },
  {
   "cell_type": "code",
   "execution_count": 17,
   "id": "339d76fc",
   "metadata": {},
   "outputs": [
    {
     "name": "stdout",
     "output_type": "stream",
     "text": [
      "category = French / line = Deforest\n",
      "category = Polish / line = Smolak\n",
      "category = Portuguese / line = Campos\n",
      "category = Arabic / line = Zogby\n",
      "category = Spanish / line = Porra\n",
      "category = Chinese / line = Lu\n",
      "category = Scottish / line = Murray\n",
      "category = Czech / line = Bastl\n",
      "category = Russian / line = Jakimenko\n",
      "category = Polish / line = Dziedzic\n"
     ]
    }
   ],
   "source": [
    "for i in range(10):\n",
    "    category, line, category_tensor, line_tensor = get_random_training_example()\n",
    "    print('category =', category, '/ line =', line)"
   ]
  },
  {
   "cell_type": "markdown",
   "id": "57182bab",
   "metadata": {},
   "source": [
    "Each loop of training will:\n",
    "\n",
    "-   Create input and target tensors\n",
    "-   Create a zeroed initial hidden state\n",
    "-   Read each letter in and\n",
    "    -   Keep hidden state for next letter\n",
    "-   Compare final output to target\n",
    "-   Back-propagate\n",
    "-   Return the output and loss"
   ]
  },
  {
   "cell_type": "code",
   "execution_count": 18,
   "id": "a44be95c",
   "metadata": {},
   "outputs": [],
   "source": [
    "# loss criterion\n",
    "criterion = nn.NLLLoss()\n",
    "\n",
    "# learning rate\n",
    "lr = 0.0056\n",
    "\n",
    "# number of iterations\n",
    "iterations = 100000\n",
    "\n",
    "n_hidden = 128\n",
    "rnn = RNN(n_letters, n_hidden, n_categories)"
   ]
  },
  {
   "cell_type": "code",
   "execution_count": 19,
   "id": "c615f398",
   "metadata": {},
   "outputs": [],
   "source": [
    "def train_one_iter(category_tensor, line_tensor):\n",
    "    hidden = rnn.init_hidden()\n",
    "    rnn.zero_grad()\n",
    "    \n",
    "    # pass each char in line thorugh RNN\n",
    "    for ctensor in line_tensor:\n",
    "        output, hidden = rnn(ctensor, hidden)\n",
    "\n",
    "    loss = criterion(output, category_tensor)\n",
    "    loss.backward()\n",
    "    # Add parameters' gradients to their values, multiplied by learning rate\n",
    "    # this is done by an optimizer usually\n",
    "    for p in rnn.parameters():\n",
    "        p.data.add_(p.grad.data, alpha=-lr)\n",
    "\n",
    "    return output, loss.item()\n",
    "\n",
    "\n",
    "def get_time_since(start):\n",
    "    now = time.time()\n",
    "    s = now - start\n",
    "    m = s / 60\n",
    "    s = m - int(m)\n",
    "    return f\"{int(m)}m:{int(s*60)}s\""
   ]
  },
  {
   "cell_type": "markdown",
   "id": "cf915017",
   "metadata": {},
   "source": [
    "## training loop"
   ]
  },
  {
   "cell_type": "code",
   "execution_count": 20,
   "id": "6f1a00dd",
   "metadata": {},
   "outputs": [
    {
     "name": "stdout",
     "output_type": "stream",
     "text": [
      "Iteration: 5000 5.0% Loss:2.1207 0m:3s Morinaga Japanese ✓\n",
      "Iteration: 10000 10.0% Loss:2.6438 0m:7s Blake Japanese ✗ (English)\n",
      "Iteration: 15000 15.0% Loss:1.3013 0m:11s Chweh Vietnamese ✗ (Korean)\n",
      "Iteration: 20000 20.0% Loss:2.9391 0m:15s Bahlulzade Irish ✗ (Russian)\n",
      "Iteration: 25000 25.0% Loss:2.6675 0m:19s Zee Chinese ✗ (Dutch)\n",
      "Iteration: 30000 30.0% Loss:0.6597 0m:23s Sin Korean ✓\n",
      "Iteration: 35000 35.0% Loss:2.1416 0m:26s Young Chinese ✗ (Scottish)\n",
      "Iteration: 40000 40.0% Loss:1.2387 0m:30s Entwistle English ✓\n",
      "Iteration: 45000 45.0% Loss:1.0667 0m:34s Etxeberria Spanish ✓\n",
      "Iteration: 50000 50.0% Loss:0.9754 0m:38s Sauveterre French ✓\n",
      "Iteration: 55000 55.0% Loss:0.2157 0m:42s Nguyen Vietnamese ✓\n",
      "Iteration: 60000 60.0% Loss:0.3954 0m:46s Stavropoulos Greek ✓\n",
      "Iteration: 65000 65.0% Loss:0.5425 0m:50s Jelinek Czech ✓\n",
      "Iteration: 70000 70.0% Loss:0.2175 0m:54s Totolos Greek ✓\n",
      "Iteration: 75000 75.0% Loss:0.4079 0m:58s Tosetti Italian ✓\n",
      "Iteration: 80000 80.0% Loss:0.8244 1m:3s Snaaijer Dutch ✓\n",
      "Iteration: 85000 85.0% Loss:1.4417 1m:7s Scott Scottish ✓\n",
      "Iteration: 90000 90.0% Loss:3.1666 1m:12s Pugliese French ✗ (Italian)\n",
      "Iteration: 95000 95.0% Loss:0.9741 1m:16s Obando Italian ✗ (Spanish)\n",
      "Iteration: 100000 100.0% Loss:1.4617 1m:20s Stoep Dutch ✓\n"
     ]
    }
   ],
   "source": [
    "n_iters = 100000\n",
    "print_every = 5000\n",
    "plot_every = 1000\n",
    "\n",
    "# Keep track of losses for plotting\n",
    "start_time = time.time()\n",
    "current_loss = 0\n",
    "all_losses = []\n",
    "\n",
    "for i in range(1, n_iters+1):\n",
    "    category, category_line, category_tensor, line_tensor = get_random_training_example()\n",
    "    pred_category_tensor, loss = train_one_iter(category_tensor, line_tensor)\n",
    "    \n",
    "    current_loss += loss\n",
    "    if i % plot_every == 0:\n",
    "        all_losses.append(current_loss/plot_every)\n",
    "        current_loss = 0\n",
    "\n",
    "    if i % print_every == 0:\n",
    "        pred_category, cat_idx = get_category_from_output(pred_category_tensor)\n",
    "        correct = '✓' if pred_category == category else f\"✗ ({category})\"\n",
    "        print(f\"Iteration: {i} {i*100/(n_iters)}% Loss:{loss:.4f} {get_time_since(start_time)} {category_line} {pred_category} {correct}\")"
   ]
  },
  {
   "cell_type": "markdown",
   "id": "2ec5c70c",
   "metadata": {},
   "source": [
    "## Plotting the results"
   ]
  },
  {
   "cell_type": "code",
   "execution_count": 25,
   "id": "ef8de622",
   "metadata": {},
   "outputs": [
    {
     "data": {
      "text/plain": [
       "[<matplotlib.lines.Line2D at 0x7fdd35ee9210>]"
      ]
     },
     "execution_count": 25,
     "metadata": {},
     "output_type": "execute_result"
    },
    {
     "data": {
      "image/png": "[encoded data removed]",
      "text/plain": [
       "<Figure size 432x288 with 1 Axes>"
      ]
     },
     "metadata": {
      "needs_background": "light"
     },
     "output_type": "display_data"
    }
   ],
   "source": [
    "import matplotlib.pyplot as plt\n",
    "import matplotlib.ticker as ticker\n",
    "\n",
    "plt.figure()\n",
    "plt.xlabel(f\"Iterations (per {plot_every})\")\n",
    "plt.ylabel(f\"Average Loss\")\n",
    "plt.plot(all_losses)"
   ]
  },
  {
   "cell_type": "markdown",
   "id": "2ff7e1fc",
   "metadata": {},
   "source": [
    "## Evaluating results"
   ]
  },
  {
   "cell_type": "code",
   "execution_count": 26,
   "id": "fef6574d",
   "metadata": {},
   "outputs": [
    {
     "name": "stderr",
     "output_type": "stream",
     "text": [
      "/Users/samridha.shrestha/Main/projects/ml_recurrent_neural_network/venv/lib/python3.7/site-packages/ipykernel_launcher.py:33: UserWarning: FixedFormatter should only be used together with FixedLocator\n",
      "/Users/samridha.shrestha/Main/projects/ml_recurrent_neural_network/venv/lib/python3.7/site-packages/ipykernel_launcher.py:34: UserWarning: FixedFormatter should only be used together with FixedLocator\n"
     ]
    },
    {
     "data": {
      "image/png": "[encoded data removed]",
      "text/plain": [
       "<Figure size 864x576 with 2 Axes>"
      ]
     },
     "metadata": {
      "needs_background": "light"
     },
     "output_type": "display_data"
    }
   ],
   "source": [
    "# Keep track of correct guesses in a confusion matrix\n",
    "confusion = torch.zeros(n_categories, n_categories)\n",
    "n_confusion = 10000\n",
    "\n",
    "# return an output tensor of size n_categories given a line\n",
    "def evaluate(line_tensor):\n",
    "    hidden = rnn.init_hidden()\n",
    "\n",
    "    for i in range(line_tensor.size()[0]):\n",
    "        output, hidden = rnn(line_tensor[i], hidden)\n",
    "\n",
    "    return output\n",
    "\n",
    "# Go through a bunch of examples and record which are correctly guessed\n",
    "for i in range(n_confusion):\n",
    "    category, line, category_tensor, line_tensor = get_random_training_example()\n",
    "    output = evaluate(line_tensor)\n",
    "    guess, guess_i = get_category_from_output(output)\n",
    "    category_i = all_categories.index(category)\n",
    "    confusion[category_i][guess_i] += 1\n",
    "\n",
    "# Normalize by dividing every row by its sum\n",
    "for i in range(n_categories):\n",
    "    confusion[i] = confusion[i] / confusion[i].sum()\n",
    "\n",
    "# Set up plot\n",
    "fig = plt.figure(figsize=(12,8))\n",
    "ax = fig.add_subplot(111)\n",
    "cax = ax.matshow(confusion.numpy())\n",
    "fig.colorbar(cax)\n",
    "\n",
    "# Set up axes\n",
    "ax.set_xticklabels([''] + all_categories, rotation=90)\n",
    "ax.set_yticklabels([''] + all_categories)\n",
    "\n",
    "# Set axes labels\n",
    "ax.set_xlabel(\"Predicted\")\n",
    "ax.set_ylabel(\"Actual\")\n",
    "\n",
    "# Force label at every tick\n",
    "ax.xaxis.set_major_locator(ticker.MultipleLocator(1))\n",
    "ax.yaxis.set_major_locator(ticker.MultipleLocator(1))\n",
    "\n",
    "# sphinx_gallery_thumbnail_number = 2\n",
    "plt.show()"
   ]
  },
  {
   "cell_type": "code",
   "execution_count": 27,
   "id": "d6a0300e",
   "metadata": {},
   "outputs": [
    {
     "name": "stdout",
     "output_type": "stream",
     "text": [
      "Accuracy: 58.36%\n"
     ]
    }
   ],
   "source": [
    "# evaluate on the whole dataset\n",
    "correct, total = 0, 0\n",
    "for cat_idx, category in enumerate(all_categories):\n",
    "    for line in category_lines[category]:\n",
    "        line_tensor = line_to_tensor(line)\n",
    "        output = evaluate(line_tensor)\n",
    "        _, guess_i = get_category_from_output(output)\n",
    "        correct += 1 if guess_i == cat_idx else 0\n",
    "        total += 1\n",
    "        \n",
    "print(f\"Accuracy: {100*correct/total:.2f}%\")"
   ]
  },
  {
   "cell_type": "markdown",
   "id": "f7eee826",
   "metadata": {},
   "source": [
    "## Inference on user input"
   ]
  },
  {
   "cell_type": "code",
   "execution_count": 24,
   "id": "3629ffd4",
   "metadata": {},
   "outputs": [
    {
     "name": "stdout",
     "output_type": "stream",
     "text": [
      "\n",
      "> Dovesky\n",
      "(-0.31) Russian\n",
      "(-1.53) Czech\n",
      "(-4.29) Irish\n",
      "\n",
      "> Jackson\n",
      "(-0.22) Scottish\n",
      "(-2.56) English\n",
      "(-2.68) Russian\n",
      "\n",
      "> Satoshi\n",
      "(-0.90) Italian\n",
      "(-1.58) Japanese\n",
      "(-2.50) Polish\n"
     ]
    }
   ],
   "source": [
    "def predict(input_line, n_predictions=3):\n",
    "    print('\\n> %s' % input_line)\n",
    "    with torch.no_grad():\n",
    "        output = evaluate(line_to_tensor(input_line))\n",
    "\n",
    "        # Get top N categories\n",
    "        topv, topi = output.topk(n_predictions, 1, True)\n",
    "        predictions = []\n",
    "\n",
    "        for i in range(n_predictions):\n",
    "            value = topv[0][i].item()\n",
    "            category_index = topi[0][i].item()\n",
    "            print('(%.2f) %s' % (value, all_categories[category_index]))\n",
    "            predictions.append([value, all_categories[category_index]])\n",
    "\n",
    "predict('Dovesky')\n",
    "predict('Jackson')\n",
    "predict('Satoshi')"
   ]
  },
  {
   "cell_type": "code",
   "execution_count": null,
   "id": "eee46c8e",
   "metadata": {},
   "outputs": [],
   "source": []
  }
 ],
 "metadata": {
  "kernelspec": {
   "display_name": "Python 3",
   "language": "python",
   "name": "python3"
  },
  "language_info": {
   "codemirror_mode": {
    "name": "ipython",
    "version": 3
   },
   "file_extension": ".py",
   "mimetype": "text/x-python",
   "name": "python",
   "nbconvert_exporter": "python",
   "pygments_lexer": "ipython3",
   "version": "3.7.9"
  }
 },
 "nbformat": 4,
 "nbformat_minor": 5
}
